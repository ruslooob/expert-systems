{
 "cells": [
  {
   "cell_type": "code",
   "execution_count": 22,
   "id": "initial_id",
   "metadata": {
    "collapsed": true,
    "ExecuteTime": {
     "end_time": "2023-12-17T17:17:23.592894700Z",
     "start_time": "2023-12-17T17:17:23.524380900Z"
    }
   },
   "outputs": [],
   "source": [
    "from sklearn.datasets import fetch_20newsgroups\n",
    "import pandas as pd"
   ]
  },
  {
   "cell_type": "code",
   "execution_count": 23,
   "outputs": [],
   "source": [
    "categories = ['comp.graphics', 'sci.crypt', 'sci.electronics']\n",
    "remove = ('headers', 'footers', 'quotes')\n",
    "\n",
    "twenty_train_full = fetch_20newsgroups(subset='train', categories=categories, shuffle=True, random_state=42,\n",
    "                                       remove=remove)\n",
    "twenty_test_full = fetch_20newsgroups(subset='test', categories=categories, shuffle=True, random_state=42,\n",
    "                                      remove=remove)"
   ],
   "metadata": {
    "collapsed": false,
    "ExecuteTime": {
     "end_time": "2023-12-17T17:17:25.143239600Z",
     "start_time": "2023-12-17T17:17:23.529896200Z"
    }
   },
   "id": "4ff68be7eae5488f"
  },
  {
   "cell_type": "code",
   "execution_count": 24,
   "outputs": [
    {
     "name": "stderr",
     "output_type": "stream",
     "text": [
      "[nltk_data] Downloading package punkt to\n",
      "[nltk_data]     C:\\Users\\Ruslan\\AppData\\Roaming\\nltk_data...\n",
      "[nltk_data]   Package punkt is already up-to-date!\n"
     ]
    },
    {
     "data": {
      "text/plain": "True"
     },
     "execution_count": 24,
     "metadata": {},
     "output_type": "execute_result"
    }
   ],
   "source": [
    "import nltk\n",
    "from nltk import word_tokenize\n",
    "from nltk.stem import *\n",
    "\n",
    "nltk.download('punkt')"
   ],
   "metadata": {
    "collapsed": false,
    "ExecuteTime": {
     "end_time": "2023-12-17T17:17:25.151239300Z",
     "start_time": "2023-12-17T17:17:25.145239800Z"
    }
   },
   "id": "fc41a354b06e1e84"
  },
  {
   "cell_type": "code",
   "execution_count": 25,
   "outputs": [],
   "source": [
    "def stemming(data):\n",
    "    porter_stemmer = PorterStemmer()\n",
    "    stem = []\n",
    "    for text in data:\n",
    "        nltk_tokens = word_tokenize(text)\n",
    "        line = ''.join([' ' + porter_stemmer.stem(word) for word in nltk_tokens])\n",
    "        stem.append(line)\n",
    "    return stem\n",
    "\n",
    "\n",
    "stem_train = stemming(twenty_train_full.data)\n",
    "stem_test = stemming(twenty_test_full.data)"
   ],
   "metadata": {
    "collapsed": false,
    "ExecuteTime": {
     "end_time": "2023-12-17T17:17:32.472669600Z",
     "start_time": "2023-12-17T17:17:25.149239500Z"
    }
   },
   "id": "5496c615488d75fd"
  },
  {
   "cell_type": "markdown",
   "source": [
    "Вариант 12\n",
    "RF, SVM, LR"
   ],
   "metadata": {
    "collapsed": false
   },
   "id": "f1ae1c6f4fa59ab4"
  },
  {
   "cell_type": "code",
   "execution_count": 26,
   "outputs": [],
   "source": [
    "from sklearn.ensemble import RandomForestClassifier\n",
    "from sklearn.linear_model import LogisticRegression\n",
    "from sklearn.svm import SVC"
   ],
   "metadata": {
    "collapsed": false,
    "ExecuteTime": {
     "end_time": "2023-12-17T17:17:32.476658600Z",
     "start_time": "2023-12-17T17:17:32.474632600Z"
    }
   },
   "id": "2e49342c804db3ec"
  },
  {
   "cell_type": "code",
   "execution_count": 27,
   "outputs": [],
   "source": [
    "stop_words = [None, 'english']\n",
    "max_features_values = [100, 500, 1000, 5000, 10000]\n",
    "use_idf = [True, False]\n",
    "\n",
    "rf_first = range(1, 5, 1)\n",
    "rf_second = range(5, 100, 20)\n",
    "\n",
    "rf_tree_max_depth = [*rf_first, *rf_second]\n",
    "\n",
    "parameters_rf = {\n",
    "    'vect__max_features': max_features_values,\n",
    "    'vect__stop_words': stop_words,\n",
    "    'tfidf__use_idf': use_idf,\n",
    "    'clf__n_estimators': range(1, 10, 1),\n",
    "    'clf__criterion': ('gini', 'entropy'),\n",
    "    'clf__max_depth': rf_tree_max_depth,\n",
    "}\n",
    "\n",
    "parameters_lr = {\n",
    "    'vect__max_features': max_features_values,\n",
    "    'vect__stop_words': stop_words,\n",
    "    'tfidf__use_idf': use_idf,\n",
    "    'clf__solver': ['newton-cg', 'lbfgs', 'sag', 'liblinear'],\n",
    "    'clf__penalty': ['l2']\n",
    "}\n",
    "\n",
    "parameters_lr_l1 = {\n",
    "    'vect__max_features': max_features_values,\n",
    "    'vect__stop_words': stop_words,\n",
    "    'tfidf__use_idf': use_idf,\n",
    "    'clf__solver': ['liblinear'],  # Используем только 'liblinear' для l1\n",
    "    'clf__penalty': ['l1'],\n",
    "}\n",
    "\n",
    "parameters_svm = {\n",
    "    'vect__max_features': max_features_values,\n",
    "    'vect__stop_words': stop_words,\n",
    "    'tfidf__use_idf': use_idf,\n",
    "}"
   ],
   "metadata": {
    "collapsed": false,
    "ExecuteTime": {
     "end_time": "2023-12-17T17:17:32.492692500Z",
     "start_time": "2023-12-17T17:17:32.476658600Z"
    }
   },
   "id": "a24d85a1b2c04b78"
  },
  {
   "cell_type": "code",
   "execution_count": 28,
   "outputs": [],
   "source": [
    "from sklearn.model_selection import GridSearchCV\n",
    "from sklearn.pipeline import Pipeline\n",
    "from sklearn.feature_extraction.text import CountVectorizer, TfidfTransformer"
   ],
   "metadata": {
    "collapsed": false,
    "ExecuteTime": {
     "end_time": "2023-12-17T17:17:32.506241100Z",
     "start_time": "2023-12-17T17:17:32.495246100Z"
    }
   },
   "id": "7fcc786ab9e55415"
  },
  {
   "cell_type": "markdown",
   "source": [
    "Random Forest without stemming"
   ],
   "metadata": {
    "collapsed": false
   },
   "id": "a062f0a0b323bfed"
  },
  {
   "cell_type": "code",
   "execution_count": 29,
   "outputs": [
    {
     "data": {
      "text/plain": "GridSearchCV(estimator=Pipeline(steps=[('vect', CountVectorizer()),\n                                       ('tfidf', TfidfTransformer()),\n                                       ('clf', RandomForestClassifier())]),\n             n_jobs=-1,\n             param_grid={'clf__criterion': ('gini', 'entropy'),\n                         'clf__max_depth': [1, 2, 3, 4, 5, 25, 45, 65, 85],\n                         'clf__n_estimators': range(1, 10),\n                         'tfidf__use_idf': [True, False],\n                         'vect__max_features': [100, 500, 1000, 5000, 10000],\n                         'vect__stop_words': [None, 'english']})",
      "text/html": "<style>#sk-container-id-2 {color: black;background-color: white;}#sk-container-id-2 pre{padding: 0;}#sk-container-id-2 div.sk-toggleable {background-color: white;}#sk-container-id-2 label.sk-toggleable__label {cursor: pointer;display: block;width: 100%;margin-bottom: 0;padding: 0.3em;box-sizing: border-box;text-align: center;}#sk-container-id-2 label.sk-toggleable__label-arrow:before {content: \"▸\";float: left;margin-right: 0.25em;color: #696969;}#sk-container-id-2 label.sk-toggleable__label-arrow:hover:before {color: black;}#sk-container-id-2 div.sk-estimator:hover label.sk-toggleable__label-arrow:before {color: black;}#sk-container-id-2 div.sk-toggleable__content {max-height: 0;max-width: 0;overflow: hidden;text-align: left;background-color: #f0f8ff;}#sk-container-id-2 div.sk-toggleable__content pre {margin: 0.2em;color: black;border-radius: 0.25em;background-color: #f0f8ff;}#sk-container-id-2 input.sk-toggleable__control:checked~div.sk-toggleable__content {max-height: 200px;max-width: 100%;overflow: auto;}#sk-container-id-2 input.sk-toggleable__control:checked~label.sk-toggleable__label-arrow:before {content: \"▾\";}#sk-container-id-2 div.sk-estimator input.sk-toggleable__control:checked~label.sk-toggleable__label {background-color: #d4ebff;}#sk-container-id-2 div.sk-label input.sk-toggleable__control:checked~label.sk-toggleable__label {background-color: #d4ebff;}#sk-container-id-2 input.sk-hidden--visually {border: 0;clip: rect(1px 1px 1px 1px);clip: rect(1px, 1px, 1px, 1px);height: 1px;margin: -1px;overflow: hidden;padding: 0;position: absolute;width: 1px;}#sk-container-id-2 div.sk-estimator {font-family: monospace;background-color: #f0f8ff;border: 1px dotted black;border-radius: 0.25em;box-sizing: border-box;margin-bottom: 0.5em;}#sk-container-id-2 div.sk-estimator:hover {background-color: #d4ebff;}#sk-container-id-2 div.sk-parallel-item::after {content: \"\";width: 100%;border-bottom: 1px solid gray;flex-grow: 1;}#sk-container-id-2 div.sk-label:hover label.sk-toggleable__label {background-color: #d4ebff;}#sk-container-id-2 div.sk-serial::before {content: \"\";position: absolute;border-left: 1px solid gray;box-sizing: border-box;top: 0;bottom: 0;left: 50%;z-index: 0;}#sk-container-id-2 div.sk-serial {display: flex;flex-direction: column;align-items: center;background-color: white;padding-right: 0.2em;padding-left: 0.2em;position: relative;}#sk-container-id-2 div.sk-item {position: relative;z-index: 1;}#sk-container-id-2 div.sk-parallel {display: flex;align-items: stretch;justify-content: center;background-color: white;position: relative;}#sk-container-id-2 div.sk-item::before, #sk-container-id-2 div.sk-parallel-item::before {content: \"\";position: absolute;border-left: 1px solid gray;box-sizing: border-box;top: 0;bottom: 0;left: 50%;z-index: -1;}#sk-container-id-2 div.sk-parallel-item {display: flex;flex-direction: column;z-index: 1;position: relative;background-color: white;}#sk-container-id-2 div.sk-parallel-item:first-child::after {align-self: flex-end;width: 50%;}#sk-container-id-2 div.sk-parallel-item:last-child::after {align-self: flex-start;width: 50%;}#sk-container-id-2 div.sk-parallel-item:only-child::after {width: 0;}#sk-container-id-2 div.sk-dashed-wrapped {border: 1px dashed gray;margin: 0 0.4em 0.5em 0.4em;box-sizing: border-box;padding-bottom: 0.4em;background-color: white;}#sk-container-id-2 div.sk-label label {font-family: monospace;font-weight: bold;display: inline-block;line-height: 1.2em;}#sk-container-id-2 div.sk-label-container {text-align: center;}#sk-container-id-2 div.sk-container {/* jupyter's `normalize.less` sets `[hidden] { display: none; }` but bootstrap.min.css set `[hidden] { display: none !important; }` so we also need the `!important` here to be able to override the default hidden behavior on the sphinx rendered scikit-learn.org. See: https://github.com/scikit-learn/scikit-learn/issues/21755 */display: inline-block !important;position: relative;}#sk-container-id-2 div.sk-text-repr-fallback {display: none;}</style><div id=\"sk-container-id-2\" class=\"sk-top-container\"><div class=\"sk-text-repr-fallback\"><pre>GridSearchCV(estimator=Pipeline(steps=[(&#x27;vect&#x27;, CountVectorizer()),\n                                       (&#x27;tfidf&#x27;, TfidfTransformer()),\n                                       (&#x27;clf&#x27;, RandomForestClassifier())]),\n             n_jobs=-1,\n             param_grid={&#x27;clf__criterion&#x27;: (&#x27;gini&#x27;, &#x27;entropy&#x27;),\n                         &#x27;clf__max_depth&#x27;: [1, 2, 3, 4, 5, 25, 45, 65, 85],\n                         &#x27;clf__n_estimators&#x27;: range(1, 10),\n                         &#x27;tfidf__use_idf&#x27;: [True, False],\n                         &#x27;vect__max_features&#x27;: [100, 500, 1000, 5000, 10000],\n                         &#x27;vect__stop_words&#x27;: [None, &#x27;english&#x27;]})</pre><b>In a Jupyter environment, please rerun this cell to show the HTML representation or trust the notebook. <br />On GitHub, the HTML representation is unable to render, please try loading this page with nbviewer.org.</b></div><div class=\"sk-container\" hidden><div class=\"sk-item sk-dashed-wrapped\"><div class=\"sk-label-container\"><div class=\"sk-label sk-toggleable\"><input class=\"sk-toggleable__control sk-hidden--visually\" id=\"sk-estimator-id-6\" type=\"checkbox\" ><label for=\"sk-estimator-id-6\" class=\"sk-toggleable__label sk-toggleable__label-arrow\">GridSearchCV</label><div class=\"sk-toggleable__content\"><pre>GridSearchCV(estimator=Pipeline(steps=[(&#x27;vect&#x27;, CountVectorizer()),\n                                       (&#x27;tfidf&#x27;, TfidfTransformer()),\n                                       (&#x27;clf&#x27;, RandomForestClassifier())]),\n             n_jobs=-1,\n             param_grid={&#x27;clf__criterion&#x27;: (&#x27;gini&#x27;, &#x27;entropy&#x27;),\n                         &#x27;clf__max_depth&#x27;: [1, 2, 3, 4, 5, 25, 45, 65, 85],\n                         &#x27;clf__n_estimators&#x27;: range(1, 10),\n                         &#x27;tfidf__use_idf&#x27;: [True, False],\n                         &#x27;vect__max_features&#x27;: [100, 500, 1000, 5000, 10000],\n                         &#x27;vect__stop_words&#x27;: [None, &#x27;english&#x27;]})</pre></div></div></div><div class=\"sk-parallel\"><div class=\"sk-parallel-item\"><div class=\"sk-item\"><div class=\"sk-label-container\"><div class=\"sk-label sk-toggleable\"><input class=\"sk-toggleable__control sk-hidden--visually\" id=\"sk-estimator-id-7\" type=\"checkbox\" ><label for=\"sk-estimator-id-7\" class=\"sk-toggleable__label sk-toggleable__label-arrow\">estimator: Pipeline</label><div class=\"sk-toggleable__content\"><pre>Pipeline(steps=[(&#x27;vect&#x27;, CountVectorizer()), (&#x27;tfidf&#x27;, TfidfTransformer()),\n                (&#x27;clf&#x27;, RandomForestClassifier())])</pre></div></div></div><div class=\"sk-serial\"><div class=\"sk-item\"><div class=\"sk-serial\"><div class=\"sk-item\"><div class=\"sk-estimator sk-toggleable\"><input class=\"sk-toggleable__control sk-hidden--visually\" id=\"sk-estimator-id-8\" type=\"checkbox\" ><label for=\"sk-estimator-id-8\" class=\"sk-toggleable__label sk-toggleable__label-arrow\">CountVectorizer</label><div class=\"sk-toggleable__content\"><pre>CountVectorizer()</pre></div></div></div><div class=\"sk-item\"><div class=\"sk-estimator sk-toggleable\"><input class=\"sk-toggleable__control sk-hidden--visually\" id=\"sk-estimator-id-9\" type=\"checkbox\" ><label for=\"sk-estimator-id-9\" class=\"sk-toggleable__label sk-toggleable__label-arrow\">TfidfTransformer</label><div class=\"sk-toggleable__content\"><pre>TfidfTransformer()</pre></div></div></div><div class=\"sk-item\"><div class=\"sk-estimator sk-toggleable\"><input class=\"sk-toggleable__control sk-hidden--visually\" id=\"sk-estimator-id-10\" type=\"checkbox\" ><label for=\"sk-estimator-id-10\" class=\"sk-toggleable__label sk-toggleable__label-arrow\">RandomForestClassifier</label><div class=\"sk-toggleable__content\"><pre>RandomForestClassifier()</pre></div></div></div></div></div></div></div></div></div></div></div></div>"
     },
     "execution_count": 29,
     "metadata": {},
     "output_type": "execute_result"
    }
   ],
   "source": [
    "text_clf_rf = Pipeline([('vect', CountVectorizer()),\n",
    "                         ('tfidf', TfidfTransformer()),\n",
    "                         ('clf', RandomForestClassifier())])\n",
    "gscv_rf = GridSearchCV(text_clf_rf, param_grid=parameters_rf, n_jobs=-1)\n",
    "gscv_rf.fit(twenty_train_full.data, twenty_train_full.target)"
   ],
   "metadata": {
    "collapsed": false,
    "ExecuteTime": {
     "end_time": "2023-12-17T17:25:20.512615600Z",
     "start_time": "2023-12-17T17:17:32.502243800Z"
    }
   },
   "id": "caffdde10497e803"
  },
  {
   "cell_type": "markdown",
   "source": [
    "Random Formest with stemming"
   ],
   "metadata": {
    "collapsed": false
   },
   "id": "b2add8fa7f8b1c57"
  },
  {
   "cell_type": "code",
   "execution_count": 30,
   "outputs": [
    {
     "data": {
      "text/plain": "GridSearchCV(estimator=Pipeline(steps=[('vect', CountVectorizer()),\n                                       ('tfidf', TfidfTransformer()),\n                                       ('clf', RandomForestClassifier())]),\n             n_jobs=-1,\n             param_grid={'clf__criterion': ('gini', 'entropy'),\n                         'clf__max_depth': [1, 2, 3, 4, 5, 25, 45, 65, 85],\n                         'clf__n_estimators': range(1, 10),\n                         'tfidf__use_idf': [True, False],\n                         'vect__max_features': [100, 500, 1000, 5000, 10000],\n                         'vect__stop_words': [None, 'english']})",
      "text/html": "<style>#sk-container-id-3 {color: black;background-color: white;}#sk-container-id-3 pre{padding: 0;}#sk-container-id-3 div.sk-toggleable {background-color: white;}#sk-container-id-3 label.sk-toggleable__label {cursor: pointer;display: block;width: 100%;margin-bottom: 0;padding: 0.3em;box-sizing: border-box;text-align: center;}#sk-container-id-3 label.sk-toggleable__label-arrow:before {content: \"▸\";float: left;margin-right: 0.25em;color: #696969;}#sk-container-id-3 label.sk-toggleable__label-arrow:hover:before {color: black;}#sk-container-id-3 div.sk-estimator:hover label.sk-toggleable__label-arrow:before {color: black;}#sk-container-id-3 div.sk-toggleable__content {max-height: 0;max-width: 0;overflow: hidden;text-align: left;background-color: #f0f8ff;}#sk-container-id-3 div.sk-toggleable__content pre {margin: 0.2em;color: black;border-radius: 0.25em;background-color: #f0f8ff;}#sk-container-id-3 input.sk-toggleable__control:checked~div.sk-toggleable__content {max-height: 200px;max-width: 100%;overflow: auto;}#sk-container-id-3 input.sk-toggleable__control:checked~label.sk-toggleable__label-arrow:before {content: \"▾\";}#sk-container-id-3 div.sk-estimator input.sk-toggleable__control:checked~label.sk-toggleable__label {background-color: #d4ebff;}#sk-container-id-3 div.sk-label input.sk-toggleable__control:checked~label.sk-toggleable__label {background-color: #d4ebff;}#sk-container-id-3 input.sk-hidden--visually {border: 0;clip: rect(1px 1px 1px 1px);clip: rect(1px, 1px, 1px, 1px);height: 1px;margin: -1px;overflow: hidden;padding: 0;position: absolute;width: 1px;}#sk-container-id-3 div.sk-estimator {font-family: monospace;background-color: #f0f8ff;border: 1px dotted black;border-radius: 0.25em;box-sizing: border-box;margin-bottom: 0.5em;}#sk-container-id-3 div.sk-estimator:hover {background-color: #d4ebff;}#sk-container-id-3 div.sk-parallel-item::after {content: \"\";width: 100%;border-bottom: 1px solid gray;flex-grow: 1;}#sk-container-id-3 div.sk-label:hover label.sk-toggleable__label {background-color: #d4ebff;}#sk-container-id-3 div.sk-serial::before {content: \"\";position: absolute;border-left: 1px solid gray;box-sizing: border-box;top: 0;bottom: 0;left: 50%;z-index: 0;}#sk-container-id-3 div.sk-serial {display: flex;flex-direction: column;align-items: center;background-color: white;padding-right: 0.2em;padding-left: 0.2em;position: relative;}#sk-container-id-3 div.sk-item {position: relative;z-index: 1;}#sk-container-id-3 div.sk-parallel {display: flex;align-items: stretch;justify-content: center;background-color: white;position: relative;}#sk-container-id-3 div.sk-item::before, #sk-container-id-3 div.sk-parallel-item::before {content: \"\";position: absolute;border-left: 1px solid gray;box-sizing: border-box;top: 0;bottom: 0;left: 50%;z-index: -1;}#sk-container-id-3 div.sk-parallel-item {display: flex;flex-direction: column;z-index: 1;position: relative;background-color: white;}#sk-container-id-3 div.sk-parallel-item:first-child::after {align-self: flex-end;width: 50%;}#sk-container-id-3 div.sk-parallel-item:last-child::after {align-self: flex-start;width: 50%;}#sk-container-id-3 div.sk-parallel-item:only-child::after {width: 0;}#sk-container-id-3 div.sk-dashed-wrapped {border: 1px dashed gray;margin: 0 0.4em 0.5em 0.4em;box-sizing: border-box;padding-bottom: 0.4em;background-color: white;}#sk-container-id-3 div.sk-label label {font-family: monospace;font-weight: bold;display: inline-block;line-height: 1.2em;}#sk-container-id-3 div.sk-label-container {text-align: center;}#sk-container-id-3 div.sk-container {/* jupyter's `normalize.less` sets `[hidden] { display: none; }` but bootstrap.min.css set `[hidden] { display: none !important; }` so we also need the `!important` here to be able to override the default hidden behavior on the sphinx rendered scikit-learn.org. See: https://github.com/scikit-learn/scikit-learn/issues/21755 */display: inline-block !important;position: relative;}#sk-container-id-3 div.sk-text-repr-fallback {display: none;}</style><div id=\"sk-container-id-3\" class=\"sk-top-container\"><div class=\"sk-text-repr-fallback\"><pre>GridSearchCV(estimator=Pipeline(steps=[(&#x27;vect&#x27;, CountVectorizer()),\n                                       (&#x27;tfidf&#x27;, TfidfTransformer()),\n                                       (&#x27;clf&#x27;, RandomForestClassifier())]),\n             n_jobs=-1,\n             param_grid={&#x27;clf__criterion&#x27;: (&#x27;gini&#x27;, &#x27;entropy&#x27;),\n                         &#x27;clf__max_depth&#x27;: [1, 2, 3, 4, 5, 25, 45, 65, 85],\n                         &#x27;clf__n_estimators&#x27;: range(1, 10),\n                         &#x27;tfidf__use_idf&#x27;: [True, False],\n                         &#x27;vect__max_features&#x27;: [100, 500, 1000, 5000, 10000],\n                         &#x27;vect__stop_words&#x27;: [None, &#x27;english&#x27;]})</pre><b>In a Jupyter environment, please rerun this cell to show the HTML representation or trust the notebook. <br />On GitHub, the HTML representation is unable to render, please try loading this page with nbviewer.org.</b></div><div class=\"sk-container\" hidden><div class=\"sk-item sk-dashed-wrapped\"><div class=\"sk-label-container\"><div class=\"sk-label sk-toggleable\"><input class=\"sk-toggleable__control sk-hidden--visually\" id=\"sk-estimator-id-11\" type=\"checkbox\" ><label for=\"sk-estimator-id-11\" class=\"sk-toggleable__label sk-toggleable__label-arrow\">GridSearchCV</label><div class=\"sk-toggleable__content\"><pre>GridSearchCV(estimator=Pipeline(steps=[(&#x27;vect&#x27;, CountVectorizer()),\n                                       (&#x27;tfidf&#x27;, TfidfTransformer()),\n                                       (&#x27;clf&#x27;, RandomForestClassifier())]),\n             n_jobs=-1,\n             param_grid={&#x27;clf__criterion&#x27;: (&#x27;gini&#x27;, &#x27;entropy&#x27;),\n                         &#x27;clf__max_depth&#x27;: [1, 2, 3, 4, 5, 25, 45, 65, 85],\n                         &#x27;clf__n_estimators&#x27;: range(1, 10),\n                         &#x27;tfidf__use_idf&#x27;: [True, False],\n                         &#x27;vect__max_features&#x27;: [100, 500, 1000, 5000, 10000],\n                         &#x27;vect__stop_words&#x27;: [None, &#x27;english&#x27;]})</pre></div></div></div><div class=\"sk-parallel\"><div class=\"sk-parallel-item\"><div class=\"sk-item\"><div class=\"sk-label-container\"><div class=\"sk-label sk-toggleable\"><input class=\"sk-toggleable__control sk-hidden--visually\" id=\"sk-estimator-id-12\" type=\"checkbox\" ><label for=\"sk-estimator-id-12\" class=\"sk-toggleable__label sk-toggleable__label-arrow\">estimator: Pipeline</label><div class=\"sk-toggleable__content\"><pre>Pipeline(steps=[(&#x27;vect&#x27;, CountVectorizer()), (&#x27;tfidf&#x27;, TfidfTransformer()),\n                (&#x27;clf&#x27;, RandomForestClassifier())])</pre></div></div></div><div class=\"sk-serial\"><div class=\"sk-item\"><div class=\"sk-serial\"><div class=\"sk-item\"><div class=\"sk-estimator sk-toggleable\"><input class=\"sk-toggleable__control sk-hidden--visually\" id=\"sk-estimator-id-13\" type=\"checkbox\" ><label for=\"sk-estimator-id-13\" class=\"sk-toggleable__label sk-toggleable__label-arrow\">CountVectorizer</label><div class=\"sk-toggleable__content\"><pre>CountVectorizer()</pre></div></div></div><div class=\"sk-item\"><div class=\"sk-estimator sk-toggleable\"><input class=\"sk-toggleable__control sk-hidden--visually\" id=\"sk-estimator-id-14\" type=\"checkbox\" ><label for=\"sk-estimator-id-14\" class=\"sk-toggleable__label sk-toggleable__label-arrow\">TfidfTransformer</label><div class=\"sk-toggleable__content\"><pre>TfidfTransformer()</pre></div></div></div><div class=\"sk-item\"><div class=\"sk-estimator sk-toggleable\"><input class=\"sk-toggleable__control sk-hidden--visually\" id=\"sk-estimator-id-15\" type=\"checkbox\" ><label for=\"sk-estimator-id-15\" class=\"sk-toggleable__label sk-toggleable__label-arrow\">RandomForestClassifier</label><div class=\"sk-toggleable__content\"><pre>RandomForestClassifier()</pre></div></div></div></div></div></div></div></div></div></div></div></div>"
     },
     "execution_count": 30,
     "metadata": {},
     "output_type": "execute_result"
    }
   ],
   "source": [
    "text_clf_rf_stem = Pipeline([('vect', CountVectorizer()),\n",
    "                              ('tfidf', TfidfTransformer()),\n",
    "                              ('clf', RandomForestClassifier())])\n",
    "gscv_rf_stem = GridSearchCV(text_clf_rf_stem, param_grid=parameters_rf, n_jobs=-1)\n",
    "gscv_rf_stem.fit(stem_train, twenty_train_full.target)"
   ],
   "metadata": {
    "collapsed": false,
    "ExecuteTime": {
     "end_time": "2023-12-17T17:32:32.935391300Z",
     "start_time": "2023-12-17T17:25:20.511349600Z"
    }
   },
   "id": "3696701411588f0a"
  },
  {
   "cell_type": "markdown",
   "source": [
    "SVM without stem"
   ],
   "metadata": {
    "collapsed": false
   },
   "id": "db3d55cff566e3c5"
  },
  {
   "cell_type": "code",
   "execution_count": 31,
   "outputs": [
    {
     "data": {
      "text/plain": "GridSearchCV(estimator=Pipeline(steps=[('vect', CountVectorizer()),\n                                       ('tfidf', TfidfTransformer()),\n                                       ('clf', SVC())]),\n             n_jobs=-1,\n             param_grid={'tfidf__use_idf': [True, False],\n                         'vect__max_features': [100, 500, 1000, 5000, 10000],\n                         'vect__stop_words': [None, 'english']})",
      "text/html": "<style>#sk-container-id-4 {color: black;background-color: white;}#sk-container-id-4 pre{padding: 0;}#sk-container-id-4 div.sk-toggleable {background-color: white;}#sk-container-id-4 label.sk-toggleable__label {cursor: pointer;display: block;width: 100%;margin-bottom: 0;padding: 0.3em;box-sizing: border-box;text-align: center;}#sk-container-id-4 label.sk-toggleable__label-arrow:before {content: \"▸\";float: left;margin-right: 0.25em;color: #696969;}#sk-container-id-4 label.sk-toggleable__label-arrow:hover:before {color: black;}#sk-container-id-4 div.sk-estimator:hover label.sk-toggleable__label-arrow:before {color: black;}#sk-container-id-4 div.sk-toggleable__content {max-height: 0;max-width: 0;overflow: hidden;text-align: left;background-color: #f0f8ff;}#sk-container-id-4 div.sk-toggleable__content pre {margin: 0.2em;color: black;border-radius: 0.25em;background-color: #f0f8ff;}#sk-container-id-4 input.sk-toggleable__control:checked~div.sk-toggleable__content {max-height: 200px;max-width: 100%;overflow: auto;}#sk-container-id-4 input.sk-toggleable__control:checked~label.sk-toggleable__label-arrow:before {content: \"▾\";}#sk-container-id-4 div.sk-estimator input.sk-toggleable__control:checked~label.sk-toggleable__label {background-color: #d4ebff;}#sk-container-id-4 div.sk-label input.sk-toggleable__control:checked~label.sk-toggleable__label {background-color: #d4ebff;}#sk-container-id-4 input.sk-hidden--visually {border: 0;clip: rect(1px 1px 1px 1px);clip: rect(1px, 1px, 1px, 1px);height: 1px;margin: -1px;overflow: hidden;padding: 0;position: absolute;width: 1px;}#sk-container-id-4 div.sk-estimator {font-family: monospace;background-color: #f0f8ff;border: 1px dotted black;border-radius: 0.25em;box-sizing: border-box;margin-bottom: 0.5em;}#sk-container-id-4 div.sk-estimator:hover {background-color: #d4ebff;}#sk-container-id-4 div.sk-parallel-item::after {content: \"\";width: 100%;border-bottom: 1px solid gray;flex-grow: 1;}#sk-container-id-4 div.sk-label:hover label.sk-toggleable__label {background-color: #d4ebff;}#sk-container-id-4 div.sk-serial::before {content: \"\";position: absolute;border-left: 1px solid gray;box-sizing: border-box;top: 0;bottom: 0;left: 50%;z-index: 0;}#sk-container-id-4 div.sk-serial {display: flex;flex-direction: column;align-items: center;background-color: white;padding-right: 0.2em;padding-left: 0.2em;position: relative;}#sk-container-id-4 div.sk-item {position: relative;z-index: 1;}#sk-container-id-4 div.sk-parallel {display: flex;align-items: stretch;justify-content: center;background-color: white;position: relative;}#sk-container-id-4 div.sk-item::before, #sk-container-id-4 div.sk-parallel-item::before {content: \"\";position: absolute;border-left: 1px solid gray;box-sizing: border-box;top: 0;bottom: 0;left: 50%;z-index: -1;}#sk-container-id-4 div.sk-parallel-item {display: flex;flex-direction: column;z-index: 1;position: relative;background-color: white;}#sk-container-id-4 div.sk-parallel-item:first-child::after {align-self: flex-end;width: 50%;}#sk-container-id-4 div.sk-parallel-item:last-child::after {align-self: flex-start;width: 50%;}#sk-container-id-4 div.sk-parallel-item:only-child::after {width: 0;}#sk-container-id-4 div.sk-dashed-wrapped {border: 1px dashed gray;margin: 0 0.4em 0.5em 0.4em;box-sizing: border-box;padding-bottom: 0.4em;background-color: white;}#sk-container-id-4 div.sk-label label {font-family: monospace;font-weight: bold;display: inline-block;line-height: 1.2em;}#sk-container-id-4 div.sk-label-container {text-align: center;}#sk-container-id-4 div.sk-container {/* jupyter's `normalize.less` sets `[hidden] { display: none; }` but bootstrap.min.css set `[hidden] { display: none !important; }` so we also need the `!important` here to be able to override the default hidden behavior on the sphinx rendered scikit-learn.org. See: https://github.com/scikit-learn/scikit-learn/issues/21755 */display: inline-block !important;position: relative;}#sk-container-id-4 div.sk-text-repr-fallback {display: none;}</style><div id=\"sk-container-id-4\" class=\"sk-top-container\"><div class=\"sk-text-repr-fallback\"><pre>GridSearchCV(estimator=Pipeline(steps=[(&#x27;vect&#x27;, CountVectorizer()),\n                                       (&#x27;tfidf&#x27;, TfidfTransformer()),\n                                       (&#x27;clf&#x27;, SVC())]),\n             n_jobs=-1,\n             param_grid={&#x27;tfidf__use_idf&#x27;: [True, False],\n                         &#x27;vect__max_features&#x27;: [100, 500, 1000, 5000, 10000],\n                         &#x27;vect__stop_words&#x27;: [None, &#x27;english&#x27;]})</pre><b>In a Jupyter environment, please rerun this cell to show the HTML representation or trust the notebook. <br />On GitHub, the HTML representation is unable to render, please try loading this page with nbviewer.org.</b></div><div class=\"sk-container\" hidden><div class=\"sk-item sk-dashed-wrapped\"><div class=\"sk-label-container\"><div class=\"sk-label sk-toggleable\"><input class=\"sk-toggleable__control sk-hidden--visually\" id=\"sk-estimator-id-16\" type=\"checkbox\" ><label for=\"sk-estimator-id-16\" class=\"sk-toggleable__label sk-toggleable__label-arrow\">GridSearchCV</label><div class=\"sk-toggleable__content\"><pre>GridSearchCV(estimator=Pipeline(steps=[(&#x27;vect&#x27;, CountVectorizer()),\n                                       (&#x27;tfidf&#x27;, TfidfTransformer()),\n                                       (&#x27;clf&#x27;, SVC())]),\n             n_jobs=-1,\n             param_grid={&#x27;tfidf__use_idf&#x27;: [True, False],\n                         &#x27;vect__max_features&#x27;: [100, 500, 1000, 5000, 10000],\n                         &#x27;vect__stop_words&#x27;: [None, &#x27;english&#x27;]})</pre></div></div></div><div class=\"sk-parallel\"><div class=\"sk-parallel-item\"><div class=\"sk-item\"><div class=\"sk-label-container\"><div class=\"sk-label sk-toggleable\"><input class=\"sk-toggleable__control sk-hidden--visually\" id=\"sk-estimator-id-17\" type=\"checkbox\" ><label for=\"sk-estimator-id-17\" class=\"sk-toggleable__label sk-toggleable__label-arrow\">estimator: Pipeline</label><div class=\"sk-toggleable__content\"><pre>Pipeline(steps=[(&#x27;vect&#x27;, CountVectorizer()), (&#x27;tfidf&#x27;, TfidfTransformer()),\n                (&#x27;clf&#x27;, SVC())])</pre></div></div></div><div class=\"sk-serial\"><div class=\"sk-item\"><div class=\"sk-serial\"><div class=\"sk-item\"><div class=\"sk-estimator sk-toggleable\"><input class=\"sk-toggleable__control sk-hidden--visually\" id=\"sk-estimator-id-18\" type=\"checkbox\" ><label for=\"sk-estimator-id-18\" class=\"sk-toggleable__label sk-toggleable__label-arrow\">CountVectorizer</label><div class=\"sk-toggleable__content\"><pre>CountVectorizer()</pre></div></div></div><div class=\"sk-item\"><div class=\"sk-estimator sk-toggleable\"><input class=\"sk-toggleable__control sk-hidden--visually\" id=\"sk-estimator-id-19\" type=\"checkbox\" ><label for=\"sk-estimator-id-19\" class=\"sk-toggleable__label sk-toggleable__label-arrow\">TfidfTransformer</label><div class=\"sk-toggleable__content\"><pre>TfidfTransformer()</pre></div></div></div><div class=\"sk-item\"><div class=\"sk-estimator sk-toggleable\"><input class=\"sk-toggleable__control sk-hidden--visually\" id=\"sk-estimator-id-20\" type=\"checkbox\" ><label for=\"sk-estimator-id-20\" class=\"sk-toggleable__label sk-toggleable__label-arrow\">SVC</label><div class=\"sk-toggleable__content\"><pre>SVC()</pre></div></div></div></div></div></div></div></div></div></div></div></div>"
     },
     "execution_count": 31,
     "metadata": {},
     "output_type": "execute_result"
    }
   ],
   "source": [
    "text_clf_svm = Pipeline([('vect', CountVectorizer()),\n",
    "                         ('tfidf', TfidfTransformer()),\n",
    "                         ('clf', SVC())])\n",
    "gscv_svm = GridSearchCV(text_clf_svm, param_grid=parameters_svm, n_jobs=-1)\n",
    "gscv_svm.fit(twenty_train_full.data, twenty_train_full.target)"
   ],
   "metadata": {
    "collapsed": false,
    "ExecuteTime": {
     "end_time": "2023-12-17T17:32:45.730386Z",
     "start_time": "2023-12-17T17:32:32.935391300Z"
    }
   },
   "id": "e136322dd564ecd4"
  },
  {
   "cell_type": "markdown",
   "source": [
    "SVM with stem"
   ],
   "metadata": {
    "collapsed": false
   },
   "id": "25563b0dda66ac3b"
  },
  {
   "cell_type": "code",
   "execution_count": 32,
   "outputs": [
    {
     "data": {
      "text/plain": "GridSearchCV(estimator=Pipeline(steps=[('vect', CountVectorizer()),\n                                       ('tfidf', TfidfTransformer()),\n                                       ('clf', SVC(kernel='linear'))]),\n             n_jobs=-1,\n             param_grid={'tfidf__use_idf': [True, False],\n                         'vect__max_features': [100, 500, 1000, 5000, 10000],\n                         'vect__stop_words': [None, 'english']})",
      "text/html": "<style>#sk-container-id-5 {color: black;background-color: white;}#sk-container-id-5 pre{padding: 0;}#sk-container-id-5 div.sk-toggleable {background-color: white;}#sk-container-id-5 label.sk-toggleable__label {cursor: pointer;display: block;width: 100%;margin-bottom: 0;padding: 0.3em;box-sizing: border-box;text-align: center;}#sk-container-id-5 label.sk-toggleable__label-arrow:before {content: \"▸\";float: left;margin-right: 0.25em;color: #696969;}#sk-container-id-5 label.sk-toggleable__label-arrow:hover:before {color: black;}#sk-container-id-5 div.sk-estimator:hover label.sk-toggleable__label-arrow:before {color: black;}#sk-container-id-5 div.sk-toggleable__content {max-height: 0;max-width: 0;overflow: hidden;text-align: left;background-color: #f0f8ff;}#sk-container-id-5 div.sk-toggleable__content pre {margin: 0.2em;color: black;border-radius: 0.25em;background-color: #f0f8ff;}#sk-container-id-5 input.sk-toggleable__control:checked~div.sk-toggleable__content {max-height: 200px;max-width: 100%;overflow: auto;}#sk-container-id-5 input.sk-toggleable__control:checked~label.sk-toggleable__label-arrow:before {content: \"▾\";}#sk-container-id-5 div.sk-estimator input.sk-toggleable__control:checked~label.sk-toggleable__label {background-color: #d4ebff;}#sk-container-id-5 div.sk-label input.sk-toggleable__control:checked~label.sk-toggleable__label {background-color: #d4ebff;}#sk-container-id-5 input.sk-hidden--visually {border: 0;clip: rect(1px 1px 1px 1px);clip: rect(1px, 1px, 1px, 1px);height: 1px;margin: -1px;overflow: hidden;padding: 0;position: absolute;width: 1px;}#sk-container-id-5 div.sk-estimator {font-family: monospace;background-color: #f0f8ff;border: 1px dotted black;border-radius: 0.25em;box-sizing: border-box;margin-bottom: 0.5em;}#sk-container-id-5 div.sk-estimator:hover {background-color: #d4ebff;}#sk-container-id-5 div.sk-parallel-item::after {content: \"\";width: 100%;border-bottom: 1px solid gray;flex-grow: 1;}#sk-container-id-5 div.sk-label:hover label.sk-toggleable__label {background-color: #d4ebff;}#sk-container-id-5 div.sk-serial::before {content: \"\";position: absolute;border-left: 1px solid gray;box-sizing: border-box;top: 0;bottom: 0;left: 50%;z-index: 0;}#sk-container-id-5 div.sk-serial {display: flex;flex-direction: column;align-items: center;background-color: white;padding-right: 0.2em;padding-left: 0.2em;position: relative;}#sk-container-id-5 div.sk-item {position: relative;z-index: 1;}#sk-container-id-5 div.sk-parallel {display: flex;align-items: stretch;justify-content: center;background-color: white;position: relative;}#sk-container-id-5 div.sk-item::before, #sk-container-id-5 div.sk-parallel-item::before {content: \"\";position: absolute;border-left: 1px solid gray;box-sizing: border-box;top: 0;bottom: 0;left: 50%;z-index: -1;}#sk-container-id-5 div.sk-parallel-item {display: flex;flex-direction: column;z-index: 1;position: relative;background-color: white;}#sk-container-id-5 div.sk-parallel-item:first-child::after {align-self: flex-end;width: 50%;}#sk-container-id-5 div.sk-parallel-item:last-child::after {align-self: flex-start;width: 50%;}#sk-container-id-5 div.sk-parallel-item:only-child::after {width: 0;}#sk-container-id-5 div.sk-dashed-wrapped {border: 1px dashed gray;margin: 0 0.4em 0.5em 0.4em;box-sizing: border-box;padding-bottom: 0.4em;background-color: white;}#sk-container-id-5 div.sk-label label {font-family: monospace;font-weight: bold;display: inline-block;line-height: 1.2em;}#sk-container-id-5 div.sk-label-container {text-align: center;}#sk-container-id-5 div.sk-container {/* jupyter's `normalize.less` sets `[hidden] { display: none; }` but bootstrap.min.css set `[hidden] { display: none !important; }` so we also need the `!important` here to be able to override the default hidden behavior on the sphinx rendered scikit-learn.org. See: https://github.com/scikit-learn/scikit-learn/issues/21755 */display: inline-block !important;position: relative;}#sk-container-id-5 div.sk-text-repr-fallback {display: none;}</style><div id=\"sk-container-id-5\" class=\"sk-top-container\"><div class=\"sk-text-repr-fallback\"><pre>GridSearchCV(estimator=Pipeline(steps=[(&#x27;vect&#x27;, CountVectorizer()),\n                                       (&#x27;tfidf&#x27;, TfidfTransformer()),\n                                       (&#x27;clf&#x27;, SVC(kernel=&#x27;linear&#x27;))]),\n             n_jobs=-1,\n             param_grid={&#x27;tfidf__use_idf&#x27;: [True, False],\n                         &#x27;vect__max_features&#x27;: [100, 500, 1000, 5000, 10000],\n                         &#x27;vect__stop_words&#x27;: [None, &#x27;english&#x27;]})</pre><b>In a Jupyter environment, please rerun this cell to show the HTML representation or trust the notebook. <br />On GitHub, the HTML representation is unable to render, please try loading this page with nbviewer.org.</b></div><div class=\"sk-container\" hidden><div class=\"sk-item sk-dashed-wrapped\"><div class=\"sk-label-container\"><div class=\"sk-label sk-toggleable\"><input class=\"sk-toggleable__control sk-hidden--visually\" id=\"sk-estimator-id-21\" type=\"checkbox\" ><label for=\"sk-estimator-id-21\" class=\"sk-toggleable__label sk-toggleable__label-arrow\">GridSearchCV</label><div class=\"sk-toggleable__content\"><pre>GridSearchCV(estimator=Pipeline(steps=[(&#x27;vect&#x27;, CountVectorizer()),\n                                       (&#x27;tfidf&#x27;, TfidfTransformer()),\n                                       (&#x27;clf&#x27;, SVC(kernel=&#x27;linear&#x27;))]),\n             n_jobs=-1,\n             param_grid={&#x27;tfidf__use_idf&#x27;: [True, False],\n                         &#x27;vect__max_features&#x27;: [100, 500, 1000, 5000, 10000],\n                         &#x27;vect__stop_words&#x27;: [None, &#x27;english&#x27;]})</pre></div></div></div><div class=\"sk-parallel\"><div class=\"sk-parallel-item\"><div class=\"sk-item\"><div class=\"sk-label-container\"><div class=\"sk-label sk-toggleable\"><input class=\"sk-toggleable__control sk-hidden--visually\" id=\"sk-estimator-id-22\" type=\"checkbox\" ><label for=\"sk-estimator-id-22\" class=\"sk-toggleable__label sk-toggleable__label-arrow\">estimator: Pipeline</label><div class=\"sk-toggleable__content\"><pre>Pipeline(steps=[(&#x27;vect&#x27;, CountVectorizer()), (&#x27;tfidf&#x27;, TfidfTransformer()),\n                (&#x27;clf&#x27;, SVC(kernel=&#x27;linear&#x27;))])</pre></div></div></div><div class=\"sk-serial\"><div class=\"sk-item\"><div class=\"sk-serial\"><div class=\"sk-item\"><div class=\"sk-estimator sk-toggleable\"><input class=\"sk-toggleable__control sk-hidden--visually\" id=\"sk-estimator-id-23\" type=\"checkbox\" ><label for=\"sk-estimator-id-23\" class=\"sk-toggleable__label sk-toggleable__label-arrow\">CountVectorizer</label><div class=\"sk-toggleable__content\"><pre>CountVectorizer()</pre></div></div></div><div class=\"sk-item\"><div class=\"sk-estimator sk-toggleable\"><input class=\"sk-toggleable__control sk-hidden--visually\" id=\"sk-estimator-id-24\" type=\"checkbox\" ><label for=\"sk-estimator-id-24\" class=\"sk-toggleable__label sk-toggleable__label-arrow\">TfidfTransformer</label><div class=\"sk-toggleable__content\"><pre>TfidfTransformer()</pre></div></div></div><div class=\"sk-item\"><div class=\"sk-estimator sk-toggleable\"><input class=\"sk-toggleable__control sk-hidden--visually\" id=\"sk-estimator-id-25\" type=\"checkbox\" ><label for=\"sk-estimator-id-25\" class=\"sk-toggleable__label sk-toggleable__label-arrow\">SVC</label><div class=\"sk-toggleable__content\"><pre>SVC(kernel=&#x27;linear&#x27;)</pre></div></div></div></div></div></div></div></div></div></div></div></div>"
     },
     "execution_count": 32,
     "metadata": {},
     "output_type": "execute_result"
    }
   ],
   "source": [
    "text_clf_svm_stem = Pipeline([('vect', CountVectorizer()),\n",
    "                              ('tfidf', TfidfTransformer()),\n",
    "                              ('clf', SVC(kernel='linear', C=1.0))])\n",
    "gscv_svm_stem = GridSearchCV(text_clf_svm_stem, param_grid=parameters_svm, n_jobs=-1)\n",
    "gscv_svm_stem.fit(stem_train, twenty_train_full.target)"
   ],
   "metadata": {
    "collapsed": false,
    "ExecuteTime": {
     "end_time": "2023-12-17T17:32:55.689194800Z",
     "start_time": "2023-12-17T17:32:45.730386Z"
    }
   },
   "id": "528606f89c7d07cd"
  },
  {
   "cell_type": "markdown",
   "source": [
    "Логистическая регрессия без стеминга"
   ],
   "metadata": {
    "collapsed": false
   },
   "id": "b206f8e7a769f6a5"
  },
  {
   "cell_type": "code",
   "execution_count": 33,
   "outputs": [
    {
     "data": {
      "text/plain": "GridSearchCV(estimator=Pipeline(steps=[('vect', CountVectorizer()),\n                                       ('tfidf', TfidfTransformer()),\n                                       ('clf', LogisticRegression())]),\n             n_jobs=-1,\n             param_grid={'clf__penalty': ['l1'], 'clf__solver': ['liblinear'],\n                         'tfidf__use_idf': [True, False],\n                         'vect__max_features': [100, 500, 1000, 5000, 10000],\n                         'vect__stop_words': [None, 'english']})",
      "text/html": "<style>#sk-container-id-6 {color: black;background-color: white;}#sk-container-id-6 pre{padding: 0;}#sk-container-id-6 div.sk-toggleable {background-color: white;}#sk-container-id-6 label.sk-toggleable__label {cursor: pointer;display: block;width: 100%;margin-bottom: 0;padding: 0.3em;box-sizing: border-box;text-align: center;}#sk-container-id-6 label.sk-toggleable__label-arrow:before {content: \"▸\";float: left;margin-right: 0.25em;color: #696969;}#sk-container-id-6 label.sk-toggleable__label-arrow:hover:before {color: black;}#sk-container-id-6 div.sk-estimator:hover label.sk-toggleable__label-arrow:before {color: black;}#sk-container-id-6 div.sk-toggleable__content {max-height: 0;max-width: 0;overflow: hidden;text-align: left;background-color: #f0f8ff;}#sk-container-id-6 div.sk-toggleable__content pre {margin: 0.2em;color: black;border-radius: 0.25em;background-color: #f0f8ff;}#sk-container-id-6 input.sk-toggleable__control:checked~div.sk-toggleable__content {max-height: 200px;max-width: 100%;overflow: auto;}#sk-container-id-6 input.sk-toggleable__control:checked~label.sk-toggleable__label-arrow:before {content: \"▾\";}#sk-container-id-6 div.sk-estimator input.sk-toggleable__control:checked~label.sk-toggleable__label {background-color: #d4ebff;}#sk-container-id-6 div.sk-label input.sk-toggleable__control:checked~label.sk-toggleable__label {background-color: #d4ebff;}#sk-container-id-6 input.sk-hidden--visually {border: 0;clip: rect(1px 1px 1px 1px);clip: rect(1px, 1px, 1px, 1px);height: 1px;margin: -1px;overflow: hidden;padding: 0;position: absolute;width: 1px;}#sk-container-id-6 div.sk-estimator {font-family: monospace;background-color: #f0f8ff;border: 1px dotted black;border-radius: 0.25em;box-sizing: border-box;margin-bottom: 0.5em;}#sk-container-id-6 div.sk-estimator:hover {background-color: #d4ebff;}#sk-container-id-6 div.sk-parallel-item::after {content: \"\";width: 100%;border-bottom: 1px solid gray;flex-grow: 1;}#sk-container-id-6 div.sk-label:hover label.sk-toggleable__label {background-color: #d4ebff;}#sk-container-id-6 div.sk-serial::before {content: \"\";position: absolute;border-left: 1px solid gray;box-sizing: border-box;top: 0;bottom: 0;left: 50%;z-index: 0;}#sk-container-id-6 div.sk-serial {display: flex;flex-direction: column;align-items: center;background-color: white;padding-right: 0.2em;padding-left: 0.2em;position: relative;}#sk-container-id-6 div.sk-item {position: relative;z-index: 1;}#sk-container-id-6 div.sk-parallel {display: flex;align-items: stretch;justify-content: center;background-color: white;position: relative;}#sk-container-id-6 div.sk-item::before, #sk-container-id-6 div.sk-parallel-item::before {content: \"\";position: absolute;border-left: 1px solid gray;box-sizing: border-box;top: 0;bottom: 0;left: 50%;z-index: -1;}#sk-container-id-6 div.sk-parallel-item {display: flex;flex-direction: column;z-index: 1;position: relative;background-color: white;}#sk-container-id-6 div.sk-parallel-item:first-child::after {align-self: flex-end;width: 50%;}#sk-container-id-6 div.sk-parallel-item:last-child::after {align-self: flex-start;width: 50%;}#sk-container-id-6 div.sk-parallel-item:only-child::after {width: 0;}#sk-container-id-6 div.sk-dashed-wrapped {border: 1px dashed gray;margin: 0 0.4em 0.5em 0.4em;box-sizing: border-box;padding-bottom: 0.4em;background-color: white;}#sk-container-id-6 div.sk-label label {font-family: monospace;font-weight: bold;display: inline-block;line-height: 1.2em;}#sk-container-id-6 div.sk-label-container {text-align: center;}#sk-container-id-6 div.sk-container {/* jupyter's `normalize.less` sets `[hidden] { display: none; }` but bootstrap.min.css set `[hidden] { display: none !important; }` so we also need the `!important` here to be able to override the default hidden behavior on the sphinx rendered scikit-learn.org. See: https://github.com/scikit-learn/scikit-learn/issues/21755 */display: inline-block !important;position: relative;}#sk-container-id-6 div.sk-text-repr-fallback {display: none;}</style><div id=\"sk-container-id-6\" class=\"sk-top-container\"><div class=\"sk-text-repr-fallback\"><pre>GridSearchCV(estimator=Pipeline(steps=[(&#x27;vect&#x27;, CountVectorizer()),\n                                       (&#x27;tfidf&#x27;, TfidfTransformer()),\n                                       (&#x27;clf&#x27;, LogisticRegression())]),\n             n_jobs=-1,\n             param_grid={&#x27;clf__penalty&#x27;: [&#x27;l1&#x27;], &#x27;clf__solver&#x27;: [&#x27;liblinear&#x27;],\n                         &#x27;tfidf__use_idf&#x27;: [True, False],\n                         &#x27;vect__max_features&#x27;: [100, 500, 1000, 5000, 10000],\n                         &#x27;vect__stop_words&#x27;: [None, &#x27;english&#x27;]})</pre><b>In a Jupyter environment, please rerun this cell to show the HTML representation or trust the notebook. <br />On GitHub, the HTML representation is unable to render, please try loading this page with nbviewer.org.</b></div><div class=\"sk-container\" hidden><div class=\"sk-item sk-dashed-wrapped\"><div class=\"sk-label-container\"><div class=\"sk-label sk-toggleable\"><input class=\"sk-toggleable__control sk-hidden--visually\" id=\"sk-estimator-id-26\" type=\"checkbox\" ><label for=\"sk-estimator-id-26\" class=\"sk-toggleable__label sk-toggleable__label-arrow\">GridSearchCV</label><div class=\"sk-toggleable__content\"><pre>GridSearchCV(estimator=Pipeline(steps=[(&#x27;vect&#x27;, CountVectorizer()),\n                                       (&#x27;tfidf&#x27;, TfidfTransformer()),\n                                       (&#x27;clf&#x27;, LogisticRegression())]),\n             n_jobs=-1,\n             param_grid={&#x27;clf__penalty&#x27;: [&#x27;l1&#x27;], &#x27;clf__solver&#x27;: [&#x27;liblinear&#x27;],\n                         &#x27;tfidf__use_idf&#x27;: [True, False],\n                         &#x27;vect__max_features&#x27;: [100, 500, 1000, 5000, 10000],\n                         &#x27;vect__stop_words&#x27;: [None, &#x27;english&#x27;]})</pre></div></div></div><div class=\"sk-parallel\"><div class=\"sk-parallel-item\"><div class=\"sk-item\"><div class=\"sk-label-container\"><div class=\"sk-label sk-toggleable\"><input class=\"sk-toggleable__control sk-hidden--visually\" id=\"sk-estimator-id-27\" type=\"checkbox\" ><label for=\"sk-estimator-id-27\" class=\"sk-toggleable__label sk-toggleable__label-arrow\">estimator: Pipeline</label><div class=\"sk-toggleable__content\"><pre>Pipeline(steps=[(&#x27;vect&#x27;, CountVectorizer()), (&#x27;tfidf&#x27;, TfidfTransformer()),\n                (&#x27;clf&#x27;, LogisticRegression())])</pre></div></div></div><div class=\"sk-serial\"><div class=\"sk-item\"><div class=\"sk-serial\"><div class=\"sk-item\"><div class=\"sk-estimator sk-toggleable\"><input class=\"sk-toggleable__control sk-hidden--visually\" id=\"sk-estimator-id-28\" type=\"checkbox\" ><label for=\"sk-estimator-id-28\" class=\"sk-toggleable__label sk-toggleable__label-arrow\">CountVectorizer</label><div class=\"sk-toggleable__content\"><pre>CountVectorizer()</pre></div></div></div><div class=\"sk-item\"><div class=\"sk-estimator sk-toggleable\"><input class=\"sk-toggleable__control sk-hidden--visually\" id=\"sk-estimator-id-29\" type=\"checkbox\" ><label for=\"sk-estimator-id-29\" class=\"sk-toggleable__label sk-toggleable__label-arrow\">TfidfTransformer</label><div class=\"sk-toggleable__content\"><pre>TfidfTransformer()</pre></div></div></div><div class=\"sk-item\"><div class=\"sk-estimator sk-toggleable\"><input class=\"sk-toggleable__control sk-hidden--visually\" id=\"sk-estimator-id-30\" type=\"checkbox\" ><label for=\"sk-estimator-id-30\" class=\"sk-toggleable__label sk-toggleable__label-arrow\">LogisticRegression</label><div class=\"sk-toggleable__content\"><pre>LogisticRegression()</pre></div></div></div></div></div></div></div></div></div></div></div></div>"
     },
     "execution_count": 33,
     "metadata": {},
     "output_type": "execute_result"
    }
   ],
   "source": [
    "text_clf_lr = Pipeline([('vect', CountVectorizer()),\n",
    "                         ('tfidf', TfidfTransformer()),\n",
    "                         ('clf', LogisticRegression())])\n",
    "gscv_lr = GridSearchCV(text_clf_lr, param_grid=parameters_lr, n_jobs=-1)\n",
    "gscv_lr.fit(twenty_train_full.data, twenty_train_full.target)\n",
    "\n",
    "text_clf_lr_l1 = Pipeline([('vect', CountVectorizer()),\n",
    "                         ('tfidf', TfidfTransformer()),\n",
    "                         ('clf', LogisticRegression())])\n",
    "gscv_lr_l1 = GridSearchCV(text_clf_lr_l1, param_grid=parameters_lr_l1, n_jobs=-1)\n",
    "gscv_lr_l1.fit(twenty_train_full.data, twenty_train_full.target)"
   ],
   "metadata": {
    "collapsed": false,
    "ExecuteTime": {
     "end_time": "2023-12-17T17:33:11.694199600Z",
     "start_time": "2023-12-17T17:32:55.690196900Z"
    }
   },
   "id": "99c52fbf0e9b1716"
  },
  {
   "cell_type": "markdown",
   "source": [
    "Логистическая регрессия со стеммингом"
   ],
   "metadata": {
    "collapsed": false
   },
   "id": "444e4f1e62523b49"
  },
  {
   "cell_type": "code",
   "execution_count": 45,
   "outputs": [
    {
     "data": {
      "text/plain": "GridSearchCV(estimator=Pipeline(steps=[('vect', CountVectorizer()),\n                                       ('tfidf', TfidfTransformer()),\n                                       ('clf', LogisticRegression())]),\n             n_jobs=-1,\n             param_grid={'clf__penalty': ['l1'], 'clf__solver': ['liblinear'],\n                         'tfidf__use_idf': [True, False],\n                         'vect__max_features': [100, 500, 1000, 5000, 10000],\n                         'vect__stop_words': [None, 'english']})",
      "text/html": "<style>#sk-container-id-8 {color: black;background-color: white;}#sk-container-id-8 pre{padding: 0;}#sk-container-id-8 div.sk-toggleable {background-color: white;}#sk-container-id-8 label.sk-toggleable__label {cursor: pointer;display: block;width: 100%;margin-bottom: 0;padding: 0.3em;box-sizing: border-box;text-align: center;}#sk-container-id-8 label.sk-toggleable__label-arrow:before {content: \"▸\";float: left;margin-right: 0.25em;color: #696969;}#sk-container-id-8 label.sk-toggleable__label-arrow:hover:before {color: black;}#sk-container-id-8 div.sk-estimator:hover label.sk-toggleable__label-arrow:before {color: black;}#sk-container-id-8 div.sk-toggleable__content {max-height: 0;max-width: 0;overflow: hidden;text-align: left;background-color: #f0f8ff;}#sk-container-id-8 div.sk-toggleable__content pre {margin: 0.2em;color: black;border-radius: 0.25em;background-color: #f0f8ff;}#sk-container-id-8 input.sk-toggleable__control:checked~div.sk-toggleable__content {max-height: 200px;max-width: 100%;overflow: auto;}#sk-container-id-8 input.sk-toggleable__control:checked~label.sk-toggleable__label-arrow:before {content: \"▾\";}#sk-container-id-8 div.sk-estimator input.sk-toggleable__control:checked~label.sk-toggleable__label {background-color: #d4ebff;}#sk-container-id-8 div.sk-label input.sk-toggleable__control:checked~label.sk-toggleable__label {background-color: #d4ebff;}#sk-container-id-8 input.sk-hidden--visually {border: 0;clip: rect(1px 1px 1px 1px);clip: rect(1px, 1px, 1px, 1px);height: 1px;margin: -1px;overflow: hidden;padding: 0;position: absolute;width: 1px;}#sk-container-id-8 div.sk-estimator {font-family: monospace;background-color: #f0f8ff;border: 1px dotted black;border-radius: 0.25em;box-sizing: border-box;margin-bottom: 0.5em;}#sk-container-id-8 div.sk-estimator:hover {background-color: #d4ebff;}#sk-container-id-8 div.sk-parallel-item::after {content: \"\";width: 100%;border-bottom: 1px solid gray;flex-grow: 1;}#sk-container-id-8 div.sk-label:hover label.sk-toggleable__label {background-color: #d4ebff;}#sk-container-id-8 div.sk-serial::before {content: \"\";position: absolute;border-left: 1px solid gray;box-sizing: border-box;top: 0;bottom: 0;left: 50%;z-index: 0;}#sk-container-id-8 div.sk-serial {display: flex;flex-direction: column;align-items: center;background-color: white;padding-right: 0.2em;padding-left: 0.2em;position: relative;}#sk-container-id-8 div.sk-item {position: relative;z-index: 1;}#sk-container-id-8 div.sk-parallel {display: flex;align-items: stretch;justify-content: center;background-color: white;position: relative;}#sk-container-id-8 div.sk-item::before, #sk-container-id-8 div.sk-parallel-item::before {content: \"\";position: absolute;border-left: 1px solid gray;box-sizing: border-box;top: 0;bottom: 0;left: 50%;z-index: -1;}#sk-container-id-8 div.sk-parallel-item {display: flex;flex-direction: column;z-index: 1;position: relative;background-color: white;}#sk-container-id-8 div.sk-parallel-item:first-child::after {align-self: flex-end;width: 50%;}#sk-container-id-8 div.sk-parallel-item:last-child::after {align-self: flex-start;width: 50%;}#sk-container-id-8 div.sk-parallel-item:only-child::after {width: 0;}#sk-container-id-8 div.sk-dashed-wrapped {border: 1px dashed gray;margin: 0 0.4em 0.5em 0.4em;box-sizing: border-box;padding-bottom: 0.4em;background-color: white;}#sk-container-id-8 div.sk-label label {font-family: monospace;font-weight: bold;display: inline-block;line-height: 1.2em;}#sk-container-id-8 div.sk-label-container {text-align: center;}#sk-container-id-8 div.sk-container {/* jupyter's `normalize.less` sets `[hidden] { display: none; }` but bootstrap.min.css set `[hidden] { display: none !important; }` so we also need the `!important` here to be able to override the default hidden behavior on the sphinx rendered scikit-learn.org. See: https://github.com/scikit-learn/scikit-learn/issues/21755 */display: inline-block !important;position: relative;}#sk-container-id-8 div.sk-text-repr-fallback {display: none;}</style><div id=\"sk-container-id-8\" class=\"sk-top-container\"><div class=\"sk-text-repr-fallback\"><pre>GridSearchCV(estimator=Pipeline(steps=[(&#x27;vect&#x27;, CountVectorizer()),\n                                       (&#x27;tfidf&#x27;, TfidfTransformer()),\n                                       (&#x27;clf&#x27;, LogisticRegression())]),\n             n_jobs=-1,\n             param_grid={&#x27;clf__penalty&#x27;: [&#x27;l1&#x27;], &#x27;clf__solver&#x27;: [&#x27;liblinear&#x27;],\n                         &#x27;tfidf__use_idf&#x27;: [True, False],\n                         &#x27;vect__max_features&#x27;: [100, 500, 1000, 5000, 10000],\n                         &#x27;vect__stop_words&#x27;: [None, &#x27;english&#x27;]})</pre><b>In a Jupyter environment, please rerun this cell to show the HTML representation or trust the notebook. <br />On GitHub, the HTML representation is unable to render, please try loading this page with nbviewer.org.</b></div><div class=\"sk-container\" hidden><div class=\"sk-item sk-dashed-wrapped\"><div class=\"sk-label-container\"><div class=\"sk-label sk-toggleable\"><input class=\"sk-toggleable__control sk-hidden--visually\" id=\"sk-estimator-id-36\" type=\"checkbox\" ><label for=\"sk-estimator-id-36\" class=\"sk-toggleable__label sk-toggleable__label-arrow\">GridSearchCV</label><div class=\"sk-toggleable__content\"><pre>GridSearchCV(estimator=Pipeline(steps=[(&#x27;vect&#x27;, CountVectorizer()),\n                                       (&#x27;tfidf&#x27;, TfidfTransformer()),\n                                       (&#x27;clf&#x27;, LogisticRegression())]),\n             n_jobs=-1,\n             param_grid={&#x27;clf__penalty&#x27;: [&#x27;l1&#x27;], &#x27;clf__solver&#x27;: [&#x27;liblinear&#x27;],\n                         &#x27;tfidf__use_idf&#x27;: [True, False],\n                         &#x27;vect__max_features&#x27;: [100, 500, 1000, 5000, 10000],\n                         &#x27;vect__stop_words&#x27;: [None, &#x27;english&#x27;]})</pre></div></div></div><div class=\"sk-parallel\"><div class=\"sk-parallel-item\"><div class=\"sk-item\"><div class=\"sk-label-container\"><div class=\"sk-label sk-toggleable\"><input class=\"sk-toggleable__control sk-hidden--visually\" id=\"sk-estimator-id-37\" type=\"checkbox\" ><label for=\"sk-estimator-id-37\" class=\"sk-toggleable__label sk-toggleable__label-arrow\">estimator: Pipeline</label><div class=\"sk-toggleable__content\"><pre>Pipeline(steps=[(&#x27;vect&#x27;, CountVectorizer()), (&#x27;tfidf&#x27;, TfidfTransformer()),\n                (&#x27;clf&#x27;, LogisticRegression())])</pre></div></div></div><div class=\"sk-serial\"><div class=\"sk-item\"><div class=\"sk-serial\"><div class=\"sk-item\"><div class=\"sk-estimator sk-toggleable\"><input class=\"sk-toggleable__control sk-hidden--visually\" id=\"sk-estimator-id-38\" type=\"checkbox\" ><label for=\"sk-estimator-id-38\" class=\"sk-toggleable__label sk-toggleable__label-arrow\">CountVectorizer</label><div class=\"sk-toggleable__content\"><pre>CountVectorizer()</pre></div></div></div><div class=\"sk-item\"><div class=\"sk-estimator sk-toggleable\"><input class=\"sk-toggleable__control sk-hidden--visually\" id=\"sk-estimator-id-39\" type=\"checkbox\" ><label for=\"sk-estimator-id-39\" class=\"sk-toggleable__label sk-toggleable__label-arrow\">TfidfTransformer</label><div class=\"sk-toggleable__content\"><pre>TfidfTransformer()</pre></div></div></div><div class=\"sk-item\"><div class=\"sk-estimator sk-toggleable\"><input class=\"sk-toggleable__control sk-hidden--visually\" id=\"sk-estimator-id-40\" type=\"checkbox\" ><label for=\"sk-estimator-id-40\" class=\"sk-toggleable__label sk-toggleable__label-arrow\">LogisticRegression</label><div class=\"sk-toggleable__content\"><pre>LogisticRegression()</pre></div></div></div></div></div></div></div></div></div></div></div></div>"
     },
     "execution_count": 45,
     "metadata": {},
     "output_type": "execute_result"
    }
   ],
   "source": [
    "text_clf_lr_stem = Pipeline([('vect', CountVectorizer()),\n",
    "                             ('tfidf', TfidfTransformer()),\n",
    "                             ('clf', LogisticRegression())])\n",
    "gscv_lr_stem = GridSearchCV(text_clf_lr_stem, param_grid=parameters_lr, n_jobs=-1)\n",
    "gscv_lr_stem.fit(stem_train, twenty_train_full.target)\n",
    "\n",
    "text_clf_lr_l1_stem = Pipeline([('vect', CountVectorizer()),\n",
    "                             ('tfidf', TfidfTransformer()),\n",
    "                             ('clf', LogisticRegression())])\n",
    "gscv_lr_l1_stem = GridSearchCV(text_clf_lr_l1_stem, param_grid=parameters_lr_l1, n_jobs=-1)\n",
    "gscv_lr_l1_stem.fit(stem_train, twenty_train_full.target)"
   ],
   "metadata": {
    "collapsed": false,
    "ExecuteTime": {
     "end_time": "2023-12-17T17:37:12.939193800Z",
     "start_time": "2023-12-17T17:36:57.338071200Z"
    }
   },
   "id": "7d004af88408aa41"
  },
  {
   "cell_type": "markdown",
   "source": [
    "Результаты"
   ],
   "metadata": {
    "collapsed": false
   },
   "id": "91dcb9f9ec812d22"
  },
  {
   "cell_type": "code",
   "execution_count": 44,
   "outputs": [
    {
     "name": "stdout",
     "output_type": "stream",
     "text": [
      "Случайный лес (RF) без стемминга\n",
      "\n",
      "                 precision    recall  f1-score   support\n",
      "\n",
      "  comp.graphics       0.76      0.79      0.77       389\n",
      "      sci.crypt       0.86      0.70      0.77       396\n",
      "sci.electronics       0.64      0.74      0.69       393\n",
      "\n",
      "       accuracy                           0.74      1178\n",
      "      macro avg       0.75      0.74      0.74      1178\n",
      "   weighted avg       0.75      0.74      0.74      1178\n",
      "\n",
      "{'clf__criterion': 'gini', 'clf__max_depth': 65, 'clf__n_estimators': 9, 'tfidf__use_idf': False, 'vect__max_features': 5000, 'vect__stop_words': 'english'}\n",
      "Случайный лес (RF) со стеммингом\n",
      "\n",
      "                 precision    recall  f1-score   support\n",
      "\n",
      "  comp.graphics       0.67      0.65      0.66       389\n",
      "      sci.crypt       0.87      0.58      0.69       396\n",
      "sci.electronics       0.53      0.73      0.62       393\n",
      "\n",
      "       accuracy                           0.65      1178\n",
      "      macro avg       0.69      0.65      0.66      1178\n",
      "   weighted avg       0.69      0.65      0.66      1178\n",
      "\n",
      "{'clf__criterion': 'gini', 'clf__max_depth': 45, 'clf__n_estimators': 9, 'tfidf__use_idf': False, 'vect__max_features': 1000, 'vect__stop_words': 'english'}\n"
     ]
    }
   ],
   "source": [
    "from sklearn.metrics import classification_report\n",
    "\n",
    "predicted_rf = gscv_rf.predict(twenty_test_full.data)\n",
    "print('Случайный лес (RF) без стемминга\\n')\n",
    "print(classification_report(twenty_test_full.target, predicted_rf, target_names=categories))\n",
    "print(gscv_rf.best_params_)\n",
    "\n",
    "predicted_rf_stem = gscv_rf_stem.predict(twenty_test_full.data)\n",
    "print('Случайный лес (RF) со стеммингом\\n')\n",
    "print(classification_report(twenty_test_full.target, predicted_rf_stem, target_names=categories))\n",
    "print(gscv_rf_stem.best_params_)"
   ],
   "metadata": {
    "collapsed": false,
    "ExecuteTime": {
     "end_time": "2023-12-17T17:36:55.201582900Z",
     "start_time": "2023-12-17T17:36:55.012164700Z"
    }
   },
   "id": "fc52238fddb3c955"
  },
  {
   "cell_type": "code",
   "execution_count": 48,
   "outputs": [
    {
     "name": "stdout",
     "output_type": "stream",
     "text": [
      "Логистическая регрессия (LR) без стеминга\n",
      "\n",
      "                 precision    recall  f1-score   support\n",
      "\n",
      "  comp.graphics       0.80      0.79      0.80       389\n",
      "      sci.crypt       0.89      0.69      0.78       396\n",
      "sci.electronics       0.67      0.82      0.74       393\n",
      "\n",
      "       accuracy                           0.77      1178\n",
      "      macro avg       0.79      0.77      0.77      1178\n",
      "   weighted avg       0.79      0.77      0.77      1178\n",
      "\n",
      "{'clf__penalty': 'l2', 'clf__solver': 'newton-cg', 'tfidf__use_idf': True, 'vect__max_features': 5000, 'vect__stop_words': 'english'}\n",
      "Логистическая регрессия_l1 (LR) со стеммингом\n",
      "\n",
      "                 precision    recall  f1-score   support\n",
      "\n",
      "  comp.graphics       0.77      0.72      0.75       389\n",
      "      sci.crypt       0.91      0.59      0.71       396\n",
      "sci.electronics       0.58      0.82      0.68       393\n",
      "\n",
      "       accuracy                           0.71      1178\n",
      "      macro avg       0.75      0.71      0.71      1178\n",
      "   weighted avg       0.75      0.71      0.71      1178\n",
      "\n",
      "{'clf__penalty': 'l1', 'clf__solver': 'liblinear', 'tfidf__use_idf': True, 'vect__max_features': 1000, 'vect__stop_words': 'english'}\n"
     ]
    }
   ],
   "source": [
    "predicted_lr_stem = gscv_lr_stem.predict(twenty_test_full.data)\n",
    "print('Логистическая регрессия (LR) без стеминга\\n')\n",
    "print(classification_report(twenty_test_full.target, predicted_lr_stem, target_names=categories))\n",
    "print(gscv_lr_stem.best_params_)\n",
    "\n",
    "predicted_lr_l1_stem = gscv_lr_l1_stem.predict(twenty_test_full.data)\n",
    "print('Логистическая регрессия_l1 (LR) со стеммингом\\n')\n",
    "print(classification_report(twenty_test_full.target, predicted_lr_l1_stem, target_names=categories))\n",
    "print(gscv_lr_l1_stem.best_params_)"
   ],
   "metadata": {
    "collapsed": false,
    "ExecuteTime": {
     "end_time": "2023-12-17T19:30:09.461285Z",
     "start_time": "2023-12-17T19:30:09.251137900Z"
    }
   },
   "id": "c1ecb876d306d55d"
  },
  {
   "cell_type": "code",
   "execution_count": 42,
   "outputs": [
    {
     "name": "stdout",
     "output_type": "stream",
     "text": [
      "Логистическая регрессия (LR) без стемминга\n",
      "\n",
      "                 precision    recall  f1-score   support\n",
      "\n",
      "  comp.graphics       0.82      0.87      0.85       389\n",
      "      sci.crypt       0.90      0.76      0.83       396\n",
      "sci.electronics       0.75      0.83      0.79       393\n",
      "\n",
      "       accuracy                           0.82      1178\n",
      "      macro avg       0.83      0.82      0.82      1178\n",
      "   weighted avg       0.83      0.82      0.82      1178\n",
      "\n",
      "{'clf__penalty': 'l2', 'clf__solver': 'newton-cg', 'tfidf__use_idf': True, 'vect__max_features': 5000, 'vect__stop_words': 'english'}\n",
      "Логистическая регрессия_l1 (LR) без стемминга\n",
      "\n",
      "                 precision    recall  f1-score   support\n",
      "\n",
      "  comp.graphics       0.82      0.80      0.81       389\n",
      "      sci.crypt       0.89      0.68      0.77       396\n",
      "sci.electronics       0.65      0.81      0.72       393\n",
      "\n",
      "       accuracy                           0.76      1178\n",
      "      macro avg       0.78      0.76      0.77      1178\n",
      "   weighted avg       0.78      0.76      0.77      1178\n",
      "\n",
      "{'clf__penalty': 'l1', 'clf__solver': 'liblinear', 'tfidf__use_idf': True, 'vect__max_features': 1000, 'vect__stop_words': 'english'}\n"
     ]
    }
   ],
   "source": [
    "predicted_lr = gscv_lr.predict(twenty_test_full.data)\n",
    "print('Логистическая регрессия (LR) без стемминга\\n')\n",
    "print(classification_report(twenty_test_full.target, predicted_lr, target_names=categories))\n",
    "print(gscv_lr.best_params_)\n",
    "\n",
    "predicted_lr_l1 = gscv_lr_l1.predict(twenty_test_full.data)\n",
    "print('Логистическая регрессия_l1 (LR) без стемминга\\n')\n",
    "print(classification_report(twenty_test_full.target, predicted_lr_l1, target_names=categories))\n",
    "print(gscv_lr_l1.best_params_)"
   ],
   "metadata": {
    "collapsed": false,
    "ExecuteTime": {
     "end_time": "2023-12-17T17:36:50.045524400Z",
     "start_time": "2023-12-17T17:36:49.854512400Z"
    }
   },
   "id": "72066ce0f32ed7e1"
  },
  {
   "cell_type": "code",
   "execution_count": 41,
   "outputs": [
    {
     "name": "stdout",
     "output_type": "stream",
     "text": [
      "Метод опорных векторов (SVM) без стемминга\n",
      "\n",
      "                 precision    recall  f1-score   support\n",
      "\n",
      "  comp.graphics       0.83      0.86      0.85       389\n",
      "      sci.crypt       0.93      0.74      0.83       396\n",
      "sci.electronics       0.74      0.86      0.79       393\n",
      "\n",
      "       accuracy                           0.82      1178\n",
      "      macro avg       0.83      0.82      0.82      1178\n",
      "   weighted avg       0.83      0.82      0.82      1178\n",
      "\n",
      "{'tfidf__use_idf': True, 'vect__max_features': 5000, 'vect__stop_words': 'english'}\n",
      "Метод опорных векторов (SVM) со стеммингом\n",
      "\n",
      "                 precision    recall  f1-score   support\n",
      "\n",
      "  comp.graphics       0.79      0.81      0.80       389\n",
      "      sci.crypt       0.87      0.67      0.76       396\n",
      "sci.electronics       0.67      0.81      0.73       393\n",
      "\n",
      "       accuracy                           0.76      1178\n",
      "      macro avg       0.78      0.76      0.76      1178\n",
      "   weighted avg       0.78      0.76      0.76      1178\n",
      "\n",
      "{'tfidf__use_idf': True, 'vect__max_features': 10000, 'vect__stop_words': 'english'}\n"
     ]
    }
   ],
   "source": [
    "predicted_svm = gscv_svm.predict(twenty_test_full.data)\n",
    "print('Метод опорных векторов (SVM) без стемминга\\n')\n",
    "print(classification_report(twenty_test_full.target, predicted_svm, target_names=categories))\n",
    "print(gscv_svm.best_params_)\n",
    "\n",
    "predicted_svm_stem = gscv_svm_stem.predict(twenty_test_full.data)\n",
    "print('Метод опорных векторов (SVM) со стеммингом\\n')\n",
    "print(classification_report(twenty_test_full.target, predicted_svm_stem, target_names=categories))\n",
    "print(gscv_svm_stem.best_params_)"
   ],
   "metadata": {
    "collapsed": false,
    "ExecuteTime": {
     "end_time": "2023-12-17T17:36:47.982132600Z",
     "start_time": "2023-12-17T17:36:46.991508400Z"
    }
   },
   "id": "91cae75a437afd8"
  },
  {
   "cell_type": "code",
   "execution_count": 47,
   "outputs": [],
   "source": [
    "writer = pd.ExcelWriter('./../output/3lab_result.xlsx', engine='openpyxl')\n",
    "\n",
    "# Случайный лес (RF) без стемминга\n",
    "df1 = pd.DataFrame(classification_report(predicted_rf, twenty_test_full.target, output_dict=True))\n",
    "\n",
    "# Случайный лес (RF) со стеммингом\n",
    "df2 = pd.DataFrame(classification_report(predicted_rf_stem, twenty_test_full.target, output_dict=True))\n",
    "\n",
    "# Логистическая регрессия (LR) без стемминга\n",
    "df3 = pd.DataFrame(classification_report(predicted_lr, twenty_test_full.target, output_dict=True))\n",
    "\n",
    "# Логистическая регрессия_l1 (LR) без стемминга\n",
    "df4 = pd.DataFrame(classification_report(predicted_lr_l1, twenty_test_full.target, output_dict=True))\n",
    "\n",
    "# Логистическая регрессия (LR) со стеммингом\n",
    "df5 = pd.DataFrame(classification_report(predicted_lr_stem, twenty_test_full.target, output_dict=True))\n",
    "\n",
    "# Логистическая регрессия_l1 (LR) со стеммингом\n",
    "df6 = pd.DataFrame(classification_report(predicted_lr_l1_stem, twenty_test_full.target, output_dict=True))\n",
    "\n",
    "# Метод опорных векторов (SVM) без стемминга\n",
    "df7 = pd.DataFrame(classification_report(predicted_svm, twenty_test_full.target, output_dict=True))\n",
    "\n",
    "# Метод опорных векторов (SVM) со стеммингом\n",
    "df8 = pd.DataFrame(classification_report(predicted_svm_stem, twenty_test_full.target, output_dict=True))\n",
    "\n",
    "df1.to_excel(writer, sheet_name='RF без стемминга')\n",
    "df2.to_excel(writer, sheet_name='RF со стеммингом')\n",
    "\n",
    "df3.to_excel(writer, sheet_name='LR без стемминга')\n",
    "df4.to_excel(writer, sheet_name='LR_l1 без стемминга')\n",
    "\n",
    "df5.to_excel(writer, sheet_name='LR со стеммингом')\n",
    "df6.to_excel(writer, sheet_name='LR_l1 со стеммингом')\n",
    "\n",
    "df7.to_excel(writer, sheet_name='SVM без стемминга')\n",
    "df8.to_excel(writer, sheet_name='SVM со стеммингом')\n",
    "\n",
    "writer.close()"
   ],
   "metadata": {
    "collapsed": false,
    "ExecuteTime": {
     "end_time": "2023-12-17T17:37:19.251861Z",
     "start_time": "2023-12-17T17:37:19.199080800Z"
    }
   },
   "id": "fb4e2cb182107e37"
  },
  {
   "cell_type": "code",
   "execution_count": 39,
   "outputs": [],
   "source": [],
   "metadata": {
    "collapsed": false,
    "ExecuteTime": {
     "end_time": "2023-12-17T17:33:27.813591800Z",
     "start_time": "2023-12-17T17:33:27.806592800Z"
    }
   },
   "id": "476488f0de47ecf4"
  }
 ],
 "metadata": {
  "kernelspec": {
   "display_name": "Python 3",
   "language": "python",
   "name": "python3"
  },
  "language_info": {
   "codemirror_mode": {
    "name": "ipython",
    "version": 2
   },
   "file_extension": ".py",
   "mimetype": "text/x-python",
   "name": "python",
   "nbconvert_exporter": "python",
   "pygments_lexer": "ipython2",
   "version": "2.7.6"
  }
 },
 "nbformat": 4,
 "nbformat_minor": 5
}
